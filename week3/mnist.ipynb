{
 "cells": [
  {
   "cell_type": "code",
   "execution_count": 2,
   "id": "c476b80b",
   "metadata": {},
   "outputs": [
    {
     "name": "stdout",
     "output_type": "stream",
     "text": [
      "4.15.0-197-generic\n",
      "Epoch 1/10\n",
      "1500/1500 [==============================] - 6s 4ms/step - loss: 0.6175 - sparse_categorical_accuracy: 0.8921 - val_loss: 0.0705 - val_sparse_categorical_accuracy: 0.9798\n",
      "Epoch 2/10\n",
      "1500/1500 [==============================] - 6s 4ms/step - loss: 0.1430 - sparse_categorical_accuracy: 0.9564 - val_loss: 0.0597 - val_sparse_categorical_accuracy: 0.9823\n",
      "Epoch 3/10\n",
      "1500/1500 [==============================] - 6s 4ms/step - loss: 0.1167 - sparse_categorical_accuracy: 0.9650 - val_loss: 0.0591 - val_sparse_categorical_accuracy: 0.9829\n",
      "Epoch 4/10\n",
      "1500/1500 [==============================] - 6s 4ms/step - loss: 0.1056 - sparse_categorical_accuracy: 0.9679 - val_loss: 0.0545 - val_sparse_categorical_accuracy: 0.9841\n",
      "Epoch 5/10\n",
      "1500/1500 [==============================] - 6s 4ms/step - loss: 0.0964 - sparse_categorical_accuracy: 0.9719 - val_loss: 0.0460 - val_sparse_categorical_accuracy: 0.9862\n",
      "Epoch 6/10\n",
      "1500/1500 [==============================] - 6s 4ms/step - loss: 0.0885 - sparse_categorical_accuracy: 0.9732 - val_loss: 0.0478 - val_sparse_categorical_accuracy: 0.9869\n",
      "Epoch 7/10\n",
      "1500/1500 [==============================] - 6s 4ms/step - loss: 0.0833 - sparse_categorical_accuracy: 0.9751 - val_loss: 0.0477 - val_sparse_categorical_accuracy: 0.9866\n",
      "Epoch 8/10\n",
      "1500/1500 [==============================] - 6s 4ms/step - loss: 0.0763 - sparse_categorical_accuracy: 0.9764 - val_loss: 0.0576 - val_sparse_categorical_accuracy: 0.9847\n",
      "Epoch 9/10\n",
      "1500/1500 [==============================] - 6s 4ms/step - loss: 0.0752 - sparse_categorical_accuracy: 0.9766 - val_loss: 0.0511 - val_sparse_categorical_accuracy: 0.9866\n",
      "Epoch 10/10\n",
      "1500/1500 [==============================] - 6s 4ms/step - loss: 0.0719 - sparse_categorical_accuracy: 0.9778 - val_loss: 0.0518 - val_sparse_categorical_accuracy: 0.9870\n",
      "313/313 [==============================] - 1s 4ms/step - loss: 0.0515 - sparse_categorical_accuracy: 0.9846\n",
      "test loss: 0.05146742984652519\n",
      "test accuracy 0.9846000075340271\n"
     ]
    }
   ],
   "source": [
    "# %load mnist.py\n",
    "import platform\n",
    "print( platform.release() )\n",
    "\n",
    "import tensorflow as tf\n",
    "\n",
    "(x_train, y_train), (x_test, y_test) = tf.keras.datasets.mnist.load_data()\n",
    "\n",
    "inputs = tf.keras.Input(shape=(28, 28, 1))\n",
    "\n",
    "conv_1 = tf.keras.layers.Conv2D(32, kernel_size=(3, 3), activation='relu')\n",
    "max_pool_1 = tf.keras.layers.MaxPooling2D()\n",
    "conv_2 = tf.keras.layers.Conv2D(64, kernel_size=(3, 3), activation='relu')\n",
    "max_pool_2 = tf.keras.layers.MaxPooling2D()\n",
    "flatten = tf.keras.layers.Flatten()\n",
    "drop = tf.keras.layers.Dropout(0.5)\n",
    "output = tf.keras.layers.Dense(10, activation='softmax')\n",
    "\n",
    "x = conv_1(inputs)\n",
    "x = max_pool_1(x)\n",
    "x = conv_2(x)\n",
    "x = max_pool_2(x)\n",
    "x = flatten(x)\n",
    "x = drop(x)\n",
    "x = output(x)\n",
    "\n",
    "model = tf.keras.Model(inputs=inputs, outputs=x)\n",
    "\n",
    "model.compile(\n",
    "    loss='sparse_categorical_crossentropy',\n",
    "    optimizer='adam',\n",
    "    metrics=['sparse_categorical_accuracy']\n",
    ")\n",
    "\n",
    "history = model.fit(x_train, y_train, batch_size=32, epochs=10, validation_split=0.2)\n",
    "\n",
    "score = model.evaluate(x_test, y_test)\n",
    "print('test loss:', score[0])\n",
    "print('test accuracy', score[1])\n"
   ]
  },
  {
   "cell_type": "code",
   "execution_count": null,
   "id": "52f28133",
   "metadata": {},
   "outputs": [],
   "source": []
  }
 ],
 "metadata": {
  "kernelspec": {
   "display_name": "Python 3",
   "language": "python",
   "name": "python3"
  },
  "language_info": {
   "codemirror_mode": {
    "name": "ipython",
    "version": 3
   },
   "file_extension": ".py",
   "mimetype": "text/x-python",
   "name": "python",
   "nbconvert_exporter": "python",
   "pygments_lexer": "ipython3",
   "version": "3.6.9"
  }
 },
 "nbformat": 4,
 "nbformat_minor": 5
}
